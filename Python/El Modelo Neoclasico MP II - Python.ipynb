{
 "cells": [
  {
   "cell_type": "markdown",
   "metadata": {},
   "source": [
    "# Macroeconomía I\n",
    "\n",
    "## Método de Perturbación basado en la Aproximación de las Funciones de Política\n",
    "\n",
    "## (El Modelo Neoclásico de Crecimiento)\n",
    "\n",
    "Mauricio M. Tejada\n",
    "\n",
    "ILADES - Universidad Alberto Hurtado"
   ]
  },
  {
   "cell_type": "markdown",
   "metadata": {},
   "source": [
    "### El Problema de Opmización "
   ]
  },
  {
   "cell_type": "markdown",
   "metadata": {},
   "source": [
    "El problema de optimización del planificador central es el siguiente:\n",
    "\n",
    "\\begin{eqnarray*}\n",
    "\\max U_{0} & = & \\sum_{t=0}^{\\infty}\\beta^{t}\\left[\\frac{c_{t}^{1-\\sigma}-1}{1-\\sigma}\\right]\\\\\n",
    "s.a &  & c_{t}+i_{t}=Ak_{t}^{\\alpha}\\\\\n",
    " &  & k_{t+1}=i_{t}+(1-\\delta)k_{t}\\\\\n",
    " &  & k_{0}\\,dado.\n",
    "\\end{eqnarray*}\n",
    "\n",
    "Alternativamente:\n",
    "\n",
    "\\begin{eqnarray*}\n",
    "\\max U_{0} & = & \\sum_{t=0}^{\\infty}\\beta^{t}\\left[\\frac{c_{t}^{1-\\sigma}-1}{1-\\sigma}\\right]\\\\\n",
    "s.a &  & c_{t}+k_{t+1}=Ak_{t}^{\\alpha}+(1-\\delta)k_{t}\\\\\n",
    " &  & k_{0}\\,dado.\n",
    "\\end{eqnarray*}"
   ]
  },
  {
   "cell_type": "markdown",
   "metadata": {},
   "source": [
    "De las CPO tenemos el siguiente sistema de ecuaciones en diferencias (no lineal):\n",
    "\n",
    "\n",
    "\\begin{eqnarray*}\n",
    "c_{t}^{-\\sigma} & = & \\beta c_{t+1}^{-\\sigma}\\left[\\alpha Ak_{t+1}^{\\alpha-1}+(1-\\delta)\\right]\\\\\n",
    "c_{t}+k_{t+1} & = & Ak_{t}^{\\alpha}+(1-\\delta)k_{t}\n",
    "\\end{eqnarray*}\n",
    "\n",
    "Este sistema se puede escribir como:\n",
    "\n",
    "$$F(c_{t+1}, c_{t}, k_{t+1}, k_{t}) = 0$$"
   ]
  },
  {
   "cell_type": "markdown",
   "metadata": {},
   "source": [
    "### Estado Estacionario "
   ]
  },
  {
   "cell_type": "markdown",
   "metadata": {},
   "source": [
    "El estado estacionario resuelve:\n",
    "\\begin{eqnarray*}\n",
    "1 & = & \\beta\\left[\\alpha Ak^{*\\alpha-1}+(1-\\delta)\\right]\\\\\n",
    "c^{*} & = & Ak^{*\\alpha}-\\delta k^{*}\n",
    "\\end{eqnarray*}\n",
    "\n",
    "La solución puede ser hallada algebraicamente:\n",
    "\n",
    "\\begin{eqnarray*}\n",
    "k^{*} & = & \\left[\\frac{1-\\beta(1-\\delta)}{\\beta\\alpha A}\\right]^{\\frac{1}{\\alpha-1}}\\\\\n",
    "c^{*} & = & A\\left[\\frac{1-\\beta(1-\\delta)}{\\beta\\alpha A}\\right]^{\\frac{\\alpha}{\\alpha-1}}-\\delta\\left[\\frac{1-\\beta(1-\\delta)}{\\beta\\alpha A}\\right]^{\\frac{1}{\\alpha-1}}\n",
    "\\end{eqnarray*}"
   ]
  },
  {
   "cell_type": "code",
   "execution_count": 1,
   "metadata": {},
   "outputs": [],
   "source": [
    "# Cargamos módulos necesarios\n",
    "\n",
    "# 1. Graficos\n",
    "%matplotlib inline \n",
    "import matplotlib.pyplot as plt\n",
    "\n",
    "# 2. Uso de arrays \n",
    "import numpy as np\n",
    "\n",
    "# 3. Optimizadores y herramientas del álgebra lineal\n",
    "import scipy.optimize as opt\n",
    "import scipy.linalg as lalg\n",
    "\n",
    "# 4. Metemática simbólica\n",
    "import sympy as sp\n",
    "sp.init_printing()"
   ]
  },
  {
   "cell_type": "code",
   "execution_count": 2,
   "metadata": {},
   "outputs": [],
   "source": [
    "# Parametrización\n",
    "\n",
    "α = 0.3\n",
    "β = 0.9\n",
    "σ = 0.5\n",
    "A = 2\n",
    "δ = 0.25\n",
    "\n",
    "params = (α, β, σ, A, δ)"
   ]
  },
  {
   "cell_type": "code",
   "execution_count": 3,
   "metadata": {},
   "outputs": [],
   "source": [
    "# Definimos el número de variables de estado y de control\n",
    "\n",
    "n = 1  # Variables de estado\n",
    "m = 1  # Variables de control"
   ]
  },
  {
   "cell_type": "markdown",
   "metadata": {},
   "source": [
    "Calculamos el estado estacionario usando un solver de julia."
   ]
  },
  {
   "cell_type": "code",
   "execution_count": 4,
   "metadata": {},
   "outputs": [],
   "source": [
    "# Definimos primero es sistema de ecuaciones a resolver.\n",
    "\n",
    "def systemss(x,pr):\n",
    "    # Nota: los parámetros dentro la función son considerados variables locales \n",
    "    α, β, σ, A, δ = pr\n",
    "    \n",
    "    ks = x[0]\n",
    "    cs = x[1]\n",
    "    \n",
    "    fout = [0.0, 0.0]\n",
    "\n",
    "    fout[0] = ks - ((1-β*(1-δ))/(α*β*A))**(1/(α-1))\n",
    "    fout[1] = cs - A*(ks ** α) + δ*ks\n",
    "    \n",
    "    return fout"
   ]
  },
  {
   "cell_type": "markdown",
   "metadata": {},
   "source": [
    "Resolvemos el sistema de ecuaciones no lineales utilizando el comando `root` del módulo `scipy`."
   ]
  },
  {
   "cell_type": "code",
   "execution_count": 5,
   "metadata": {},
   "outputs": [
    {
     "name": "stdout",
     "output_type": "stream",
     "text": [
      "ks =  2.065450805481485\n",
      "cs =  1.9698280830054897\n",
      "ys =  2.486190784375861\n",
      "invs =  0.5163627013703711\n"
     ]
    }
   ],
   "source": [
    "res_ss = opt.root(lambda x: systemss(x,params), [0.5, 0.5])\n",
    "     \n",
    "xss = res_ss.x\n",
    "\n",
    "ks  = xss[0]\n",
    "cs  = xss[1]\n",
    "ys  = A*(ks ** α)\n",
    "invs = ks - (1-δ)*ks\n",
    "\n",
    "print(\"ks = \",ks)\n",
    "print(\"cs = \",cs)\n",
    "print(\"ys = \",ys)\n",
    "print(\"invs = \", invs)"
   ]
  },
  {
   "cell_type": "markdown",
   "metadata": {},
   "source": [
    "### Aproximación Lineal de las Funciones de Política"
   ]
  },
  {
   "cell_type": "markdown",
   "metadata": {},
   "source": [
    "Recordemos que el sistema de ecuaciones que caracteriza el óptimo era:\n",
    "\n",
    "$$F(c_{t+1}, c_{t}, k_{t+1}, k_{t}) = 0$$\n",
    "\n",
    "La solución de este sistema, son dos funciones (denominadas funciones de política) que permiten recuperar la secuencia de consumo y capital:\n",
    "\n",
    "\\begin{eqnarray*}\n",
    "c_t & = & g(k_t)\\\\\n",
    "k_{t+1} & = & h(k_t)\n",
    "\\end{eqnarray*}\n",
    "\n",
    "Ahora podemos aproximar linealmente, alrededor del estado estacionario, las funciones de política:\n",
    "\n",
    "\\begin{eqnarray*}\n",
    "c_{t} &=& g(k^*) + g_k(k^*)(k_t - k^*)  \\\\\n",
    "k_{t+1} &=& h(k^*) + h_k(k^*)(k_t - k^*)  \n",
    "\\end{eqnarray*}\n",
    "\n",
    "El problema radica entonces en hallar las derivadas $g_k(k^*)$ y $h_k(k^*)$."
   ]
  },
  {
   "cell_type": "markdown",
   "metadata": {},
   "source": [
    "**El método general:**\n",
    "\n",
    "El sistema de CPOs es:\n",
    "\n",
    "$$F(y_{t+1},y_{t},x_{t+1},x_{t}) = 0$$\n",
    "\n",
    "donde $y$ es el vector de variables de control (de tamaño $m \\times 1$) y $x$ es el vector de variables de estado (de tamaño $n \\times 1$). \n",
    "\n",
    "La aproximación de primer orden de las funciones de política es:\n",
    "\n",
    "\\begin{eqnarray*}\n",
    "g(x) &=& g(x^*) + g_x(x^*)(x-x^*) \\\\\n",
    "h(x) &=& h(x^*) + h_x(x^*)(x-x^*)\n",
    "\\end{eqnarray*}\n",
    "\n",
    "Por definición de función de política, en estado estacionario tenemos que:\n",
    "\\begin{eqnarray*}\n",
    "g(x^*) &=& y^* \\\\\n",
    "h(x^*) &=& x^* \n",
    "\\end{eqnarray*}\n",
    "\n",
    "Usando el sistema descrito en $F(\\cdot)$ y las funciones de política:\n",
    "\n",
    "$$F(g(h(x_{t})),g(x_{t}),h(x_{t}),x_{t}) = F(x_t) = 0$$\n",
    "\n",
    "Derivando el sistema de ecuaciones de las CPOs respecto de $x$ y evaluando en el estado estacionario tenemos:\n",
    "\n",
    "$$F_x(x^*) = f_{y'} g_x h_x + f_y g_x + f_{x'}h_x + f_x = 0$$\n",
    "\n",
    "En notación matricial:\n",
    "\n",
    "\\begin{align*}\n",
    "\\left[\\begin{array}{cc}\n",
    "f_{x'} & f_{y'}\\end{array}\\right]\\left[\\begin{array}{c}\n",
    "I\\\\\n",
    "g_{x}\n",
    "\\end{array}\\right]h_{x} & =-\\left[\\begin{array}{cc}\n",
    "f_{x} & f_{y}\\end{array}\\right]\\left[\\begin{array}{c}\n",
    "I\\\\\n",
    "g_{x}\n",
    "\\end{array}\\right]\\\\\n",
    "A\\left[\\begin{array}{c}\n",
    "I\\\\\n",
    "g_{x}\n",
    "\\end{array}\\right]h_{x} & =B\\left[\\begin{array}{c}\n",
    "I\\\\\n",
    "g_{x}\n",
    "\\end{array}\\right]\n",
    "\\end{align*}\n",
    "\n",
    "Por otro lado, sea $P$ la matrix de autovectores de la matriz $h_x$ de tal manera que:\n",
    "\n",
    "$$h_x P = P \\Lambda$$\n",
    "\n",
    "Si definimos que $Z=\\left[\\begin{array}{c}\n",
    "I\\\\\n",
    "g_{x}\n",
    "\\end{array}\\right]P$ entonces la ecuación anterior se puede escribir como:\n",
    "\n",
    "$$A Z \\Lambda  = B Z$$\n",
    "\n",
    "Este problema se puede expresar como un problema de autovalores generalizado. Para matrices $A$ y $B$ dadas, existe una matriz V y una matriz diagonal $D$ tal que:\n",
    "\n",
    "$$A\\left[\\begin{array}{cc}\n",
    "V_{1} & V_{2}\\end{array}\\right]\\left[\\begin{array}{cc}\n",
    "D_{11} & 0\\\\\n",
    "0 & D_{22}\n",
    "\\end{array}\\right]=B\\left[\\begin{array}{cc}\n",
    "V_{1} & V_{2}\\end{array}\\right]$$\n",
    "\n",
    "Si todos los autovalores en $D_{11}$ están dentro el circulo unitario, tenemos que:\n",
    "\n",
    "\\begin{align*}\n",
    "\\Lambda & =D_{11}\\\\\n",
    "\\left[\\begin{array}{c}\n",
    "I\\\\\n",
    "g_{x}\n",
    "\\end{array}\\right]P & =V_{1}=\\left[\\begin{array}{c}\n",
    "V_{11}\\\\\n",
    "V_{12}\n",
    "\\end{array}\\right]\n",
    "\\end{align*}\n",
    "\n",
    "con lo cual:\n",
    "\n",
    "\\begin{align*}\n",
    "h_{x} & =V_{11}D_{11}V_{11}^{-1}\\\\\n",
    "g_{x} & =V_{12}V_{11}^{-1}\n",
    "\\end{align*}"
   ]
  },
  {
   "cell_type": "markdown",
   "metadata": {},
   "source": [
    "### Implementación"
   ]
  },
  {
   "cell_type": "markdown",
   "metadata": {},
   "source": [
    "Definimos primero el sistema de ecuaciones en diferencias caracterizado por las CPOs del problema. Usamos la capacidad de realizar oporaciones simbólicas con el módulo `sympy`."
   ]
  },
  {
   "cell_type": "code",
   "execution_count": 7,
   "metadata": {},
   "outputs": [
    {
     "data": {
      "image/png": "[encoded data removed]",
      "text/latex": [
       "$$\\left[\\begin{matrix}c^{-0.5} - \\frac{0.9 \\left(\\frac{0.6}{kf^{0.7}} + 0.75\\right)}{cf^{0.5}}\\\\c - 2 k^{0.3} - 0.75 k + kf\\end{matrix}\\right]$$"
      ],
      "text/plain": [
       "⎡ -0.5         -0.5 ⎛      -0.7       ⎞⎤\n",
       "⎢c     - 0.9⋅cf    ⋅⎝0.6⋅kf     + 0.75⎠⎥\n",
       "⎢                                      ⎥\n",
       "⎢              0.3                     ⎥\n",
       "⎣       c - 2⋅k    - 0.75⋅k + kf       ⎦"
      ]
     },
     "execution_count": 7,
     "metadata": {},
     "output_type": "execute_result"
    }
   ],
   "source": [
    "kf, cf, k, c = sp.symbols('kf, cf, k, c', real=True)\n",
    "\n",
    "cpo1 = c**-σ - β*(cf**-σ)*(α*A*(kf**(α-1))+(1-δ))\n",
    "cpo2 = c + kf - A*(k**α) - (1-δ)*k\n",
    "\n",
    "F = sp.Matrix([cpo1,cpo2])\n",
    "\n",
    "F"
   ]
  },
  {
   "cell_type": "markdown",
   "metadata": {},
   "source": [
    "Verificamos si el sistema asociado a las CPOs esta bien escrito. En estado estacionario debiera cumplirse exáctamente con cero."
   ]
  },
  {
   "cell_type": "code",
   "execution_count": 8,
   "metadata": {},
   "outputs": [
    {
     "data": {
      "image/png": "[encoded data removed]",
      "text/latex": [
       "$$\\left[\\begin{matrix}0\\\\0\\end{matrix}\\right]$$"
      ],
      "text/plain": [
       "⎡0⎤\n",
       "⎢ ⎥\n",
       "⎣0⎦"
      ]
     },
     "execution_count": 8,
     "metadata": {},
     "output_type": "execute_result"
    }
   ],
   "source": [
    "F.subs([(kf,ks), (cf,cs), (k,ks), (c,cs)])"
   ]
  },
  {
   "cell_type": "markdown",
   "metadata": {},
   "source": [
    "Calculamos la matriz jacobiana del sistema (esto es $f_{k'}$, $f_{k}$, $f_{c'}$ y $f_{c}$) evaluadas en el estado estacionario:"
   ]
  },
  {
   "cell_type": "code",
   "execution_count": 9,
   "metadata": {},
   "outputs": [
    {
     "data": {
      "image/png": "[encoded data removed]",
      "text/latex": [
       "$$\\left[\\begin{matrix}\\frac{0.378}{cf^{0.5} kf^{1.7}} & - \\frac{0.5 \\left(- \\frac{0.54}{kf^{0.7}} - 0.675\\right)}{cf^{1.5}} & 0 & - \\frac{0.5}{c^{1.5}}\\\\1 & 0 & - \\frac{0.6}{k^{0.7}} - 0.75 & 1\\end{matrix}\\right]$$"
      ],
      "text/plain": [
       "⎡        -0.5   -1.7         -1.5 ⎛         -0.7        ⎞                     \n",
       "⎢0.378⋅cf    ⋅kf      -0.5⋅cf    ⋅⎝- 0.54⋅kf     - 0.675⎠          0          \n",
       "⎢                                                                             \n",
       "⎢                                                                 -0.7        \n",
       "⎣         1                            0                   - 0.6⋅k     - 0.75 \n",
       "\n",
       "       -1.5⎤\n",
       " -0.5⋅c    ⎥\n",
       "           ⎥\n",
       "           ⎥\n",
       "     1     ⎦"
      ]
     },
     "execution_count": 9,
     "metadata": {},
     "output_type": "execute_result"
    }
   ],
   "source": [
    "Fx = F.jacobian([kf,cf,k,c])\n",
    "Fx_ss = Fx.subs([(kf,ks), (cf,cs), (k,ks), (c,cs)])\n",
    "\n",
    "Fx"
   ]
  },
  {
   "cell_type": "markdown",
   "metadata": {},
   "source": [
    "Trasformamos el objeto ahora a un `array` para hacer operaciones."
   ]
  },
  {
   "cell_type": "code",
   "execution_count": 10,
   "metadata": {},
   "outputs": [
    {
     "name": "stdout",
     "output_type": "stream",
     "text": [
      "[[ 0.07847881  0.18085375  0.         -0.18085375]\n",
      " [ 1.          0.         -1.11111111  1.        ]]\n"
     ]
    }
   ],
   "source": [
    "Fx_ss_num = np.array(Fx_ss.tolist()).astype(np.float64)\n",
    "print(Fx_ss_num)"
   ]
  },
  {
   "cell_type": "markdown",
   "metadata": {},
   "source": [
    "A partir de este punto el procedimiento es estándar. Por tanto, el código puede ser reutilizado."
   ]
  },
  {
   "cell_type": "code",
   "execution_count": 11,
   "metadata": {},
   "outputs": [],
   "source": [
    "(Neq, Nvar) = np.shape(Fx_ss_num)\n",
    "\n",
    "A = Fx_ss_num[:,0:n+m]     \n",
    "B = -Fx_ss_num[:,n+m:Nvar] \n",
    "\n",
    "D, V = lalg.eig(B,A)\n",
    "\n",
    "DD = np.diag(D.real)\n",
    "D11 = DD[0:n,0:n]\n",
    "D22 = DD[n:n+m, n:n+m]\n",
    "\n",
    "V1 = V[:,0:n]\n",
    "V11 = V1[0:n,:]\n",
    "V12 = V1[n:n+m,:]"
   ]
  },
  {
   "cell_type": "markdown",
   "metadata": {},
   "source": [
    "Las funciones de política se calculan como sigue:"
   ]
  },
  {
   "cell_type": "code",
   "execution_count": 12,
   "metadata": {},
   "outputs": [
    {
     "name": "stdout",
     "output_type": "stream",
     "text": [
      "Solucion:\n",
      "c(t) = gx * k(t), con gx =  0.5514722813918114\n",
      "k(t+1) = hx * k(t), con hx =  0.5596388297192997\n"
     ]
    }
   ],
   "source": [
    "hx = V11*D11*lalg.inv(V11)\n",
    "gx = V12*lalg.inv(V11)\n",
    "\n",
    "print(\"Solucion:\")\n",
    "print(\"c(t) = gx * k(t), con gx = \", gx[0][0])\n",
    "print(\"k(t+1) = hx * k(t), con hx = \", hx[0][0])"
   ]
  },
  {
   "cell_type": "markdown",
   "metadata": {},
   "source": [
    "### Simulando Transiciones al Estado Estacionario"
   ]
  },
  {
   "cell_type": "code",
   "execution_count": 13,
   "metadata": {},
   "outputs": [
    {
     "name": "stdout",
     "output_type": "stream",
     "text": [
      "Stock de Capital Inicial es 0.413090161096297\n"
     ]
    }
   ],
   "source": [
    "k0 = 0.2*ks\n",
    "print(\"Stock de Capital Inicial es\", k0)"
   ]
  },
  {
   "cell_type": "code",
   "execution_count": 14,
   "metadata": {},
   "outputs": [],
   "source": [
    "T = 15\n",
    "cc = np.zeros(T)\n",
    "kk = np.zeros(T+1)\n",
    "yy = np.zeros(T)\n",
    "ii = np.zeros(T)\n",
    "\n",
    "kk[0] = k0\n",
    "\n",
    "for t in range(T):\n",
    "    cc[t] = cs + gx[0][0]*(kk[t]-ks)\n",
    "    kk[t+1] = ks + hx[0][0]*(kk[t]-ks)\n",
    "    yy[t] = ys + α*(ks**(α-1))*(kk[t]-ks)\n",
    "    ii[t] = kk[t+1]-(1-δ)*kk[t]\n",
    "\n",
    "time = np.arange(0,T+1,1)"
   ]
  },
  {
   "cell_type": "code",
   "execution_count": 41,
   "metadata": {},
   "outputs": [
    {
     "data": {
      "image/png": "[encoded data removed]",
      "text/plain": [
       "<Figure size 432x288 with 1 Axes>"
      ]
     },
     "metadata": {
      "needs_background": "light"
     },
     "output_type": "display_data"
    }
   ],
   "source": [
    "plt.plot(time, kk, 'r', label='$k$')\n",
    "plt.plot(time, ks*np.ones(T+1), 'b', label='$k*$')\n",
    "plt.title('Stock de Capital')\n",
    "plt.xlabel('Periodos')\n",
    "plt.ylabel('Desvios Respecto del Estado Estacionario')\n",
    "plt.legend()\n",
    "plt.grid(True)\n",
    "plt.show()"
   ]
  },
  {
   "cell_type": "code",
   "execution_count": 40,
   "metadata": {},
   "outputs": [
    {
     "data": {
      "image/png": "[encoded data removed]",
      "text/plain": [
       "<Figure size 432x288 with 1 Axes>"
      ]
     },
     "metadata": {
      "needs_background": "light"
     },
     "output_type": "display_data"
    }
   ],
   "source": [
    "plt.plot(time[0:T], cc, 'r', label='$c$')\n",
    "plt.plot(time[0:T], cs*np.ones(T), 'b', label='$c*$')\n",
    "plt.title('Consumo')\n",
    "plt.xlabel('Periodos')\n",
    "plt.ylabel('Desvios Respecto del Estado Estacionario')\n",
    "plt.legend()\n",
    "plt.grid(True)\n",
    "plt.show()"
   ]
  },
  {
   "cell_type": "code",
   "execution_count": 39,
   "metadata": {},
   "outputs": [
    {
     "data": {
      "image/png": "[encoded data removed]",
      "text/plain": [
       "<Figure size 432x288 with 1 Axes>"
      ]
     },
     "metadata": {
      "needs_background": "light"
     },
     "output_type": "display_data"
    }
   ],
   "source": [
    "plt.plot(time[0:T], ii, 'r', label='$i$')\n",
    "plt.plot(time[0:T], invs*np.ones(T), 'b', label='$i*$')\n",
    "plt.title('Inversión')\n",
    "plt.xlabel('Periodos')\n",
    "plt.ylabel('Desvios Respecto del Estado Estacionario')\n",
    "plt.legend()\n",
    "plt.grid(True)\n",
    "plt.show()"
   ]
  },
  {
   "cell_type": "code",
   "execution_count": 38,
   "metadata": {},
   "outputs": [
    {
     "data": {
      "image/png": "[encoded data removed]",
      "text/plain": [
       "<Figure size 432x288 with 1 Axes>"
      ]
     },
     "metadata": {
      "needs_background": "light"
     },
     "output_type": "display_data"
    }
   ],
   "source": [
    "plt.plot(time[0:T], yy, 'r', label='$y$')\n",
    "plt.plot(time[0:T], ys*np.ones(T), 'b', label='$y*$')\n",
    "plt.title('Producto')\n",
    "plt.xlabel('Periodos')\n",
    "plt.ylabel('Desvios Respecto del Estado Estacionario')\n",
    "plt.legend()\n",
    "plt.grid(True)\n",
    "plt.show()"
   ]
  },
  {
   "cell_type": "code",
   "execution_count": 37,
   "metadata": {},
   "outputs": [
    {
     "data": {
      "image/png": "[encoded data removed]",
      "text/plain": [
       "<Figure size 432x288 with 1 Axes>"
      ]
     },
     "metadata": {
      "needs_background": "light"
     },
     "output_type": "display_data"
    }
   ],
   "source": [
    "gk = (np.divide(kk[2:T],kk[1:T-1]) - 1)*100 # Desde k1\n",
    "gy = (np.divide(yy[2:T],yy[1:T-1]) - 1)*100\n",
    "\n",
    "plt.plot(time[2:T], gk, 'r', label='$g_k$')\n",
    "plt.plot(time[2:T], gy, 'b', label='$g_y$')\n",
    "plt.title('Producto')\n",
    "plt.xlabel('Periodos')\n",
    "plt.ylabel('Desvios Respecto del Estado Estacionario')\n",
    "plt.legend()\n",
    "plt.grid(True)\n",
    "plt.show()"
   ]
  },
  {
   "cell_type": "markdown",
   "metadata": {},
   "source": [
    "Ahora escribimos una función que calcule automáticamente $h_x$ y $g_x$ a partir de $F_x(x^*)$. Esta función puede ser reusada para resolver otros problemas."
   ]
  },
  {
   "cell_type": "code",
   "execution_count": 45,
   "metadata": {},
   "outputs": [],
   "source": [
    "def solvefirstorderaprox(Fx,num_states,num_controls):\n",
    "\n",
    "    (Neq, Nvar) = np.shape(Fx)\n",
    "\n",
    "    A = Fx[:,0:num_states+num_controls]     \n",
    "    B = -Fx[:,num_states+num_controls:Nvar] \n",
    "\n",
    "    D, V = lalg.eig(B,A)\n",
    "\n",
    "    DD = np.diag(D.real)\n",
    "    D11 = DD[0:num_states,0:num_states]\n",
    "    D22 = DD[num_states:num_states+num_controls, num_states:num_states+num_controls]\n",
    "\n",
    "    V1 = V[:,0:num_states]\n",
    "    V11 = V1[0:num_states,:]\n",
    "    V12 = V1[num_states:num_states+num_controls,:]\n",
    "\n",
    "    hx = V11*D11*lalg.inv(V11)\n",
    "    gx = V12*lalg.inv(V11)\n",
    "    \n",
    "    return hx, gx"
   ]
  },
  {
   "cell_type": "code",
   "execution_count": 49,
   "metadata": {},
   "outputs": [
    {
     "name": "stdout",
     "output_type": "stream",
     "text": [
      "hxsol = 0.5596388297192997\n",
      "gxsol = 0.5514722813918114\n"
     ]
    }
   ],
   "source": [
    "# Testeamos la función\n",
    "hxsol, gxsol = solvefirstorderaprox(Fx_ss_num,n,m)\n",
    "\n",
    "print('hxsol =', hxsol[0][0])\n",
    "print('gxsol =', gxsol[0][0])"
   ]
  }
 ],
 "metadata": {
  "kernelspec": {
   "display_name": "Python 3",
   "language": "python",
   "name": "python3"
  },
  "language_info": {
   "codemirror_mode": {
    "name": "ipython",
    "version": 3
   },
   "file_extension": ".py",
   "mimetype": "text/x-python",
   "name": "python",
   "nbconvert_exporter": "python",
   "pygments_lexer": "ipython3",
   "version": "3.6.6"
  }
 },
 "nbformat": 4,
 "nbformat_minor": 2
}
