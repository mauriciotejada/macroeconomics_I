{
 "cells": [
  {
   "cell_type": "markdown",
   "metadata": {},
   "source": [
    "# El Modelo de Ciclos Económicos Reales con Agentes Ricardianos y No Ricardianos\n",
    "\n",
    "Mauricio Tejada\n",
    "\n",
    "Universidad Alberto Hurtado"
   ]
  },
  {
   "cell_type": "code",
   "execution_count": null,
   "metadata": {},
   "outputs": [],
   "source": [
    "using NLsolve, LaTeXStrings, Plots\n",
    "pyplot()"
   ]
  },
  {
   "cell_type": "markdown",
   "metadata": {},
   "source": [
    "## El Modelo"
   ]
  },
  {
   "cell_type": "markdown",
   "metadata": {},
   "source": [
    "### Familias Ricardianas\n",
    "\n",
    "Las familias ricardianas maximizan:\n",
    "\n",
    "$$\n",
    "\\sum_{t=0}^{\\infty} \\beta^{t}\\left[\\gamma \\log C_{i, t}+(1-\\gamma) \\log \\left(1-L_{i, t}\\right)\\right]\n",
    "$$\n",
    "\n",
    "sujeto a:\n",
    "\n",
    "$$\n",
    "C_{i, t}+K_{i, t+1}=W_{t} L_{i, t}+\\left(R_{t}+1-\\delta\\right) K_{i, t}\n",
    "$$"
   ]
  },
  {
   "cell_type": "markdown",
   "metadata": {},
   "source": [
    "### Familias No Recardianas\n",
    "\n",
    "Las familias no ricardianas maximizan:\n",
    "\n",
    "$$\n",
    "\\sum_{t=0}^{\\infty} \\beta^{t}\\left[\\gamma \\log C_{j, t}+(1-\\gamma) \\log \\left(1-L_{j, t}\\right)\\right]\n",
    "$$\n",
    "\n",
    "sujeto a:\n",
    "\n",
    "$$\n",
    "C_{j, t}=W_{t} L_{j, t}\n",
    "$$"
   ]
  },
  {
   "cell_type": "markdown",
   "metadata": {},
   "source": [
    "### Empresas\n",
    "\n",
    "Las empresas maximizan:\n",
    "\n",
    "$$\n",
    "\\max _{\\left(K_{t}, L_{t}\\right)} \\Pi_{t}=A_{t} K_{t}^{\\alpha} L_{t}^{1-\\alpha}-R_{t} K_{t}-W_{t} L_{t}\n",
    "$$\n",
    "\n",
    "con la tecnología que evoluciona de acuerdo a:\n",
    "\n",
    "$$\\ln A_{t}=\\left(1-\\rho_{A}\\right) \\ln \\bar{A}+\\rho_{A} \\ln A_{t-1}+\\varepsilon_{t}$$"
   ]
  },
  {
   "cell_type": "markdown",
   "metadata": {},
   "source": [
    "### Agregación\n",
    "\n",
    "Consumo:\n",
    "\n",
    "$$\n",
    "C_{t}=\\omega C_{i, t}+(1-\\omega) C_{j, t}\n",
    "$$\n",
    "\n",
    "Mercado de Trabajo:\n",
    "\n",
    "$$\n",
    "L_{t}=\\omega L_{i, t}+(1-\\omega) L_{j, t}\n",
    "$$\n",
    "\n",
    "Mercado de Capitales:\n",
    "\n",
    "$$\n",
    "\\begin{aligned}\n",
    "K_{t} &=\\omega K_{i, t} \\\\\n",
    "I_{t} &=\\omega I_{i, t}\n",
    "\\end{aligned}\n",
    "$$"
   ]
  },
  {
   "cell_type": "markdown",
   "metadata": {},
   "source": [
    "## Condiciones de Equilibrio "
   ]
  },
  {
   "cell_type": "markdown",
   "metadata": {},
   "source": [
    "$$\n",
    "\\begin{array}{c}\n",
    "\\frac{1-\\gamma}{\\gamma} \\frac{C_{i, t}}{1-L_{i, t}}=W_{t} \\\\\n",
    "\\frac{1-\\gamma}{\\gamma} \\frac{C_{j, t}}{1-L_{j, t}}=W_{t} \\\\\n",
    "\\frac{C_{i, t+1}}{C_{i, t}}=\\beta\\left[R_{t+1}+1-\\delta\\right] \\\\\n",
    "C_{j, t}=W_{t} L_{j, t} \\\\\n",
    "C_{t}=\\omega C_{i, t}+(1-\\omega) C_{j, t} \\\\\n",
    "L_{t}=\\omega L_{i, t}+(1-\\omega) L_{j, t} \\\\\n",
    "Y_{t}=C_{t}+I_{t} \\\\\n",
    "K_{t}=\\omega K_{i, t} \\\\\n",
    "I_{t}=\\omega I_{i, t} \\\\\n",
    "Y_{t}=A_{t} K_{t}^{\\alpha} L_{t}^{1-\\alpha} \\\\\n",
    "W_{t}=(1-\\alpha) Y_{t} / L_{t} \\\\\n",
    "R_{t}=\\alpha Y_{t} / K_{t} \\\\\n",
    "K_{i, t+1}=(1-\\delta) K_{i, t}+I_{i, t} \\\\\n",
    "\\ln A_{t}=\\left(1-\\rho_{A}\\right) \\ln \\bar{A}+\\rho_{A} \\ln A_{t-1}+\\varepsilon_{t}\n",
    "\\end{array}\n",
    "$$"
   ]
  },
  {
   "cell_type": "code",
   "execution_count": null,
   "metadata": {},
   "outputs": [],
   "source": [
    "# Parametros del modelo\n",
    "\n",
    "α  = 0.35\n",
    "β  = 0.97\n",
    "γ  = 0.40\n",
    "δ  = 0.06\n",
    "ω  = 0.50\n",
    "ρA = 0.95\n",
    "σA = 0.01\n",
    "Ā  = 1.0;\n",
    "η  = [0, 1]\n",
    "\n",
    "params = [α, β, γ, δ, ω, ρA, σA, Ā];"
   ]
  },
  {
   "cell_type": "markdown",
   "metadata": {},
   "source": [
    "## Estado Estacionario"
   ]
  },
  {
   "cell_type": "code",
   "execution_count": null,
   "metadata": {},
   "outputs": [],
   "source": [
    "# Sistema de estado estacionario\n",
    "\n",
    "function sistema_ee(x,p)\n",
    "    y, ci, cj, c, i, ii, k, ki, l, li, lj, w, r = x\n",
    "    α, β, γ, δ, ω, ρA, σA, Ā = p\n",
    "    \n",
    "    fval = similar(x)\n",
    "\n",
    "    fval[1]  = ((1-γ)/(γ))*(ci/(1-li)) - w \n",
    "    fval[2]  = ((1-γ)/(γ))*(cj/(1-lj)) - w\n",
    "    fval[3]  = 1 - β*(r + 1 - δ)\n",
    "    fval[4]  = cj - w*lj\n",
    "    fval[5]  = c - ω*ci - (1-ω)*cj\n",
    "    fval[6]  = l - ω*li - (1-ω)*lj\n",
    "    fval[7]  = y - c - i\n",
    "    fval[8]  = k - ω*ki\n",
    "    fval[9]  = i - ω*ii\n",
    "    fval[10] = y - Ā*(k^α)*(l^(1-α))\n",
    "    fval[11] = w - (1-α)*y/l\n",
    "    fval[12] = r - α*y/k\n",
    "    fval[13] = ki - ii - (1-δ)*ki\n",
    "    \n",
    "    return fval\n",
    "\n",
    "end"
   ]
  },
  {
   "cell_type": "code",
   "execution_count": null,
   "metadata": {},
   "outputs": [],
   "source": [
    "x0 = [1.5, 0.6, 0.5, 0.5, 0.2, 0.2, 2.0, 5.0, 0.3, 0.3, 0.45, 1.0, 0.1]\n",
    "solee = nlsolve(x -> sistema_ee(x, params), x0)\n",
    "yee, ciee, cjee, cee, iee, iiee, kee, kiee, lee, liee, ljee, wee, ree =  solee.zero;"
   ]
  },
  {
   "cell_type": "code",
   "execution_count": null,
   "metadata": {},
   "outputs": [],
   "source": [
    "solee.zero"
   ]
  },
  {
   "cell_type": "markdown",
   "metadata": {},
   "source": [
    "## Método de Perturbación"
   ]
  },
  {
   "cell_type": "code",
   "execution_count": null,
   "metadata": {},
   "outputs": [],
   "source": [
    "# Incluímos funciones necesarias para aplicar el método de perturbación\n",
    "include(\"second_order_approx.jl\");"
   ]
  },
  {
   "cell_type": "code",
   "execution_count": null,
   "metadata": {},
   "outputs": [],
   "source": [
    "# Número de variables y shocks\n",
    "nx = 2; # variables de estado ki, a\n",
    "ny = 12; # variables de control k, y, ci, cj, c, i, ii, l, li, lj, w, r\n",
    "ne = 1; # shock eps\n",
    "\n",
    "# Definimos el modelo. Orden de variables\n",
    "# orden: ki, a, k, y, ci, cj, c, i, ii, l, li, lj, w, r \n",
    "# las variables serán definidas en logs\n",
    "\n",
    "function eq1(x)\n",
    "    kil, al, kl, yl, cil, cjl, cl, il, iil, ll, lil, ljl, wl, rl, \n",
    "        ki, a, k, y, ci, cj, c, i, ii, l, li, lj, w, r = exp.(x)\n",
    "    \n",
    "    return ((1-γ)/(γ))*(ci/(1-li)) - w \n",
    "end\n",
    "\n",
    "function eq2(x)\n",
    "    kil, al, kl, yl, cil, cjl, cl, il, iil, ll, lil, ljl, wl, rl, \n",
    "        ki, a, k, y, ci, cj, c, i, ii, l, li, lj, w, r = exp.(x)\n",
    "    \n",
    "    return ((1-γ)/(γ))*(cj/(1-lj)) - w \n",
    "end\n",
    "\n",
    "function eq3(x)\n",
    "    kil, al, kl, yl, cil, cjl, cl, il, iil, ll, lil, ljl, wl, rl, \n",
    "        ki, a, k, y, ci, cj, c, i, ii, l, li, lj, w, r = exp.(x)\n",
    "    \n",
    "    return cil/ci - β*(rl + 1 - δ)\n",
    "end\n",
    "\n",
    "function eq4(x)\n",
    "    kil, al, kl, yl, cil, cjl, cl, il, iil, ll, lil, ljl, wl, rl, \n",
    "        ki, a, k, y, ci, cj, c, i, ii, l, li, lj, w, r = exp.(x)\n",
    "    \n",
    "    return cj - w*lj\n",
    "end\n",
    "\n",
    "function eq5(x)\n",
    "    kil, al, kl, yl, cil, cjl, cl, il, iil, ll, lil, ljl, wl, rl, \n",
    "        ki, a, k, y, ci, cj, c, i, ii, l, li, lj, w, r = exp.(x)\n",
    "    \n",
    "    return c - ω*ci - (1-ω)*cj\n",
    "end\n",
    "\n",
    "function eq6(x)\n",
    "    kil, al, kl, yl, cil, cjl, cl, il, iil, ll, lil, ljl, wl, rl, \n",
    "        ki, a, k, y, ci, cj, c, i, ii, l, li, lj, w, r = exp.(x)\n",
    "    \n",
    "    return l - ω*li - (1-ω)*lj\n",
    "end\n",
    "    \n",
    "function eq7(x)\n",
    "    kil, al, kl, yl, cil, cjl, cl, il, iil, ll, lil, ljl, wl, rl, \n",
    "        ki, a, k, y, ci, cj, c, i, ii, l, li, lj, w, r = exp.(x)\n",
    "    \n",
    "    return y - c - i\n",
    "end\n",
    "\n",
    "function eq8(x)\n",
    "    kil, al, kl, yl, cil, cjl, cl, il, iil, ll, lil, ljl, wl, rl, \n",
    "        ki, a, k, y, ci, cj, c, i, ii, l, li, lj, w, r = exp.(x)\n",
    "    \n",
    "    return k - ω*ki\n",
    "end\n",
    "\n",
    "function eq9(x)\n",
    "    kil, al, kl, yl, cil, cjl, cl, il, iil, ll, lil, ljl, wl, rl, \n",
    "        ki, a, k, y, ci, cj, c, i, ii, l, li, lj, w, r = exp.(x)\n",
    "    \n",
    "    return i - ω*ii\n",
    "end\n",
    "\n",
    "function eq10(x)\n",
    "    kil, al, kl, yl, cil, cjl, cl, il, iil, ll, lil, ljl, wl, rl, \n",
    "        ki, a, k, y, ci, cj, c, i, ii, l, li, lj, w, r = exp.(x)\n",
    "    \n",
    "    return y - a*(k^α)*(l^(1-α))\n",
    "end\n",
    "\n",
    "function eq11(x)\n",
    "    kil, al, kl, yl, cil, cjl, cl, il, iil, ll, lil, ljl, wl, rl, \n",
    "        ki, a, k, y, ci, cj, c, i, ii, l, li, lj, w, r = exp.(x)\n",
    "    \n",
    "    return w - (1-α)*y/l\n",
    "end\n",
    "\n",
    "function eq12(x)\n",
    "    kil, al, kl, yl, cil, cjl, cl, il, iil, ll, lil, ljl, wl, rl, \n",
    "        ki, a, k, y, ci, cj, c, i, ii, l, li, lj, w, r = exp.(x)\n",
    "    \n",
    "    return r - α*y/k\n",
    "end\n",
    "\n",
    "function eq13(x)\n",
    "    kil, al, kl, yl, cil, cjl, cl, il, iil, ll, lil, ljl, wl, rl, \n",
    "        ki, a, k, y, ci, cj, c, i, ii, l, li, lj, w, r = exp.(x)\n",
    "    \n",
    "    return kil - ii - (1-δ)*ki\n",
    "end\n",
    "\n",
    "function eq14(x)\n",
    "    kil, al, kl, yl, cil, cjl, cl, il, iil, ll, lil, ljl, wl, rl, \n",
    "        ki, a, k, y, ci, cj, c, i, ii, l, li, lj, w, r = exp.(x)\n",
    "    \n",
    "    return al - (1-ρA)*log(Ā) - ρA*a\n",
    "end\n",
    "\n",
    "eqs = (eq1,eq2,eq3,eq4,eq5,eq6,eq7,eq8,eq9,eq10,eq11,eq12,eq13,eq14)"
   ]
  },
  {
   "cell_type": "code",
   "execution_count": null,
   "metadata": {},
   "outputs": [],
   "source": [
    "xee = repeat([kiee, Ā, kee, yee, ciee, cjee, cee, iee, iiee, lee, liee, ljee, wee, ree],2)\n",
    "lxee = log.(xee);"
   ]
  },
  {
   "cell_type": "code",
   "execution_count": null,
   "metadata": {},
   "outputs": [],
   "source": [
    "# Calculando las matrices jacobiana y hesiana del sistema\n",
    "J, H = compute_gradient_hessian(eqs,lxee);"
   ]
  },
  {
   "cell_type": "code",
   "execution_count": null,
   "metadata": {},
   "outputs": [],
   "source": [
    "# Solución usando una aproximación de primer orden\n",
    "Gs,Hs,Gx,Hx = solve_first_order_approx(lxee,J,nx,ny,ne);"
   ]
  },
  {
   "cell_type": "markdown",
   "metadata": {},
   "source": [
    "## Análisis de Impulso Respuesta"
   ]
  },
  {
   "cell_type": "code",
   "execution_count": null,
   "metadata": {},
   "outputs": [],
   "source": [
    "horizonte = 50\n",
    "xx_a, yy_a = fir_first_order(Hx,Gx,horizonte,1,η,σA);"
   ]
  },
  {
   "cell_type": "code",
   "execution_count": null,
   "metadata": {},
   "outputs": [],
   "source": [
    "nombre_vars = [\"Capital\" \"PIB\" \"Consumo\" \"Trabajo\"]\n",
    "\n",
    "plot(1:horizonte, [xx_a[:,1] yy_a[:,2] yy_a[:,5] yy_a[:,8]],\n",
    "     xlabel = \"horizonte\", ylabel = \"Desvío Porcentual del EE\", label=nombre_vars, \n",
    "     title = \"Funciones Impulso Respuesta: Asignaciones\")"
   ]
  },
  {
   "cell_type": "code",
   "execution_count": null,
   "metadata": {},
   "outputs": [],
   "source": [
    "plot(1:horizonte, [yy_a[:,3] yy_a[:,4]],\n",
    "     xlabel = \"horizonte\", ylabel = \"Desvío Porcentual del EE\", label=[L\"C_R\" L\"C_{NR}\"], \n",
    "     title = \"Funciones Impulso Respuesta: Asignaciones\")"
   ]
  },
  {
   "cell_type": "code",
   "execution_count": null,
   "metadata": {},
   "outputs": [],
   "source": [
    "plot(1:horizonte, yy_a[:,11:12],\n",
    "     xlabel = \"horizonte\", ylabel = \"Desvío Porcentual del EE\", label=[\"Salarios\" \"Rental del Capital\"], \n",
    "     title = \"Funciones Impulso Respuesta: Precios\")"
   ]
  }
 ],
 "metadata": {
  "kernelspec": {
   "display_name": "Julia 1.6.2",
   "language": "julia",
   "name": "julia-1.6"
  },
  "language_info": {
   "file_extension": ".jl",
   "mimetype": "application/julia",
   "name": "julia",
   "version": "1.6.4"
  }
 },
 "nbformat": 4,
 "nbformat_minor": 4
}
